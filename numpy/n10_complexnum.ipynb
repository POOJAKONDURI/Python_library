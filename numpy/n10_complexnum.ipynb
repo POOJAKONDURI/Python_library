{
 "cells": [
  {
   "cell_type": "code",
   "execution_count": 9,
   "metadata": {},
   "outputs": [
    {
     "name": "stdout",
     "output_type": "stream",
     "text": [
      "imaginary num is [1.         0.70710678], \n",
      "      real num is [1.         0.70710678]\n"
     ]
    }
   ],
   "source": [
    "import numpy as np\n",
    "complex_num = np.array([ 1.00000000+0.j ,0.70710678+0.70710678j])\n",
    "realnum = np.real(complex_num)\n",
    "imaginarynum = np.real(complex_num)\n",
    "print(f\"\"\"imaginary num is {imaginarynum}, \n",
    "      real num is {realnum}\"\"\")"
   ]
  },
  {
   "cell_type": "code",
   "execution_count": null,
   "metadata": {},
   "outputs": [],
   "source": []
  }
 ],
 "metadata": {
  "kernelspec": {
   "display_name": "Python 3",
   "language": "python",
   "name": "python3"
  },
  "language_info": {
   "codemirror_mode": {
    "name": "ipython",
    "version": 3
   },
   "file_extension": ".py",
   "mimetype": "text/x-python",
   "name": "python",
   "nbconvert_exporter": "python",
   "pygments_lexer": "ipython3",
   "version": "3.12.3"
  }
 },
 "nbformat": 4,
 "nbformat_minor": 2
}
