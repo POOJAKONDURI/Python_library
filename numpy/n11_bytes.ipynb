{
 "cells": [
  {
   "cell_type": "code",
   "execution_count": 1,
   "metadata": {},
   "outputs": [
    {
     "name": "stdout",
     "output_type": "stream",
     "text": [
      "\n",
      "        size of array is : 3\n",
      "        length of element in bytes : 8\n",
      "        total bytes consumed by element : 24\n",
      "      \n"
     ]
    }
   ],
   "source": [
    "import numpy as np\n",
    "arr = np.array([1,2,3])\n",
    "size = arr.size\n",
    "length_in_bytes = arr.itemsize\n",
    "total_bytes = arr.nbytes\n",
    "print(f\"\"\"\n",
    "        size of array is : {size}\n",
    "        length of element in bytes : {length_in_bytes}\n",
    "        total bytes consumed by element : {total_bytes}\n",
    "      \"\"\")\n",
    "\n"
   ]
  }
 ],
 "metadata": {
  "kernelspec": {
   "display_name": "Python 3",
   "language": "python",
   "name": "python3"
  },
  "language_info": {
   "codemirror_mode": {
    "name": "ipython",
    "version": 3
   },
   "file_extension": ".py",
   "mimetype": "text/x-python",
   "name": "python",
   "nbconvert_exporter": "python",
   "pygments_lexer": "ipython3",
   "version": "3.12.3"
  }
 },
 "nbformat": 4,
 "nbformat_minor": 2
}
