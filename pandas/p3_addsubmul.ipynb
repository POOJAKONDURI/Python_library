{
 "cells": [
  {
   "cell_type": "code",
   "execution_count": 7,
   "metadata": {},
   "outputs": [
    {
     "name": "stdout",
     "output_type": "stream",
     "text": [
      "addition of two series : 0     6\n",
      "1    10\n",
      "2    18\n",
      "dtype: int64,\n",
      "          subtraction of two series is : 0    2\n",
      "1    8\n",
      "2    6\n",
      "dtype: int64,\n",
      "          multiplication of two series is : 0     8\n",
      "1     9\n",
      "2    72\n",
      "dtype: int64\n"
     ]
    }
   ],
   "source": [
    "import pandas as pd\n",
    "series1 = pd.Series([4,9,12])\n",
    "series2 = pd.Series([2,1,6])\n",
    "adddition = series1+series2\n",
    "subtraction = series1-series2\n",
    "multiplication = series1*series2\n",
    "print(f\"\"\"addition of two series : {adddition},\n",
    "          subtraction of two series is : {subtraction},\n",
    "          multiplication of two series is : {multiplication}\"\"\")\n"
   ]
  }
 ],
 "metadata": {
  "kernelspec": {
   "display_name": "Python 3",
   "language": "python",
   "name": "python3"
  },
  "language_info": {
   "codemirror_mode": {
    "name": "ipython",
    "version": 3
   },
   "file_extension": ".py",
   "mimetype": "text/x-python",
   "name": "python",
   "nbconvert_exporter": "python",
   "pygments_lexer": "ipython3",
   "version": "3.12.3"
  }
 },
 "nbformat": 4,
 "nbformat_minor": 2
}
