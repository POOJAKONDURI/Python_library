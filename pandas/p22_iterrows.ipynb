{
 "cells": [
  {
   "cell_type": "code",
   "execution_count": 5,
   "metadata": {},
   "outputs": [
    {
     "name": "stdout",
     "output_type": "stream",
     "text": [
      "name        Anastasia\n",
      "score            12.5\n",
      "attempts            1\n",
      "qualify           yes\n",
      "Name: a, dtype: object\n",
      "name        Dima\n",
      "score        9.0\n",
      "attempts       3\n",
      "qualify       no\n",
      "Name: b, dtype: object\n",
      "name        Katherine\n",
      "score            16.5\n",
      "attempts            2\n",
      "qualify           yes\n",
      "Name: c, dtype: object\n",
      "name        James\n",
      "score         NaN\n",
      "attempts        3\n",
      "qualify        no\n",
      "Name: d, dtype: object\n",
      "name        Emily\n",
      "score         9.0\n",
      "attempts        2\n",
      "qualify        no\n",
      "Name: e, dtype: object\n",
      "name        Michael\n",
      "score          20.0\n",
      "attempts          3\n",
      "qualify         yes\n",
      "Name: f, dtype: object\n",
      "name        Matthew\n",
      "score          14.5\n",
      "attempts          1\n",
      "qualify         yes\n",
      "Name: g, dtype: object\n",
      "name        Laura\n",
      "score         NaN\n",
      "attempts        1\n",
      "qualify        no\n",
      "Name: h, dtype: object\n",
      "name        Kevin\n",
      "score         8.0\n",
      "attempts        2\n",
      "qualify        no\n",
      "Name: i, dtype: object\n",
      "name        Jonas\n",
      "score        19.0\n",
      "attempts        1\n",
      "qualify       yes\n",
      "Name: j, dtype: object\n"
     ]
    }
   ],
   "source": [
    "import pandas as pd\n",
    "import numpy as np\n",
    "\n",
    "# Sample data\n",
    "exam_data = {'name': ['Anastasia', 'Dima', 'Katherine', 'James', 'Emily', 'Michael', 'Matthew',\n",
    "                      'Laura', 'Kevin', 'Jonas'],\n",
    "             'score': [12.5, 9, 16.5, np.nan, 9, 20, 14.5, np.nan, 8, 19],\n",
    "             'attempts': [1, 3, 2, 3, 2, 3, 1, 1, 2, 1],\n",
    "             'qualify': ['yes', 'no', 'yes', 'no', 'no', 'yes', 'yes', 'no', 'no', 'yes']}\n",
    "labels = ['a', 'b', 'c', 'd', 'e', 'f', 'g', 'h', 'i', 'j']\n",
    "df = pd.DataFrame(exam_data, index=labels)\n",
    "#method 1\n",
    "# for index, row in df.iterrows():\n",
    "#     print(f\"index is : {index}\")\n",
    "#     print(row)\n",
    "#method 2\n",
    "# for row in df.itertuples():\n",
    "#     print(row)\n",
    "#method 3\n",
    "for i in range(len(df)):\n",
    "    print(df.iloc[i])\n"
   ]
  }
 ],
 "metadata": {
  "kernelspec": {
   "display_name": "Python 3",
   "language": "python",
   "name": "python3"
  },
  "language_info": {
   "codemirror_mode": {
    "name": "ipython",
    "version": 3
   },
   "file_extension": ".py",
   "mimetype": "text/x-python",
   "name": "python",
   "nbconvert_exporter": "python",
   "pygments_lexer": "ipython3",
   "version": "3.12.3"
  }
 },
 "nbformat": 4,
 "nbformat_minor": 2
}
